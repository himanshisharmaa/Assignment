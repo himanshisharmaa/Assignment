{
 "cells": [
  {
   "cell_type": "markdown",
   "id": "2ade15dc",
   "metadata": {},
   "source": [
    "#### Write a function so that the columns of the output matrix are powers of the input vector.\n",
    "\n",
    "The order of the powers is determined by the increasing boolean argument. Specifically, when increasing is False, the i-th output column is the input vector raised element-wise to the power of N - i - 1.\n",
    "\n",
    "HINT: Such a matrix with a geometric progression in each row is named for AlexandreTheophile Vandermonde."
   ]
  },
  {
   "cell_type": "code",
   "execution_count": 1,
   "id": "6249e493",
   "metadata": {},
   "outputs": [],
   "source": [
    "import numpy as np"
   ]
  },
  {
   "cell_type": "code",
   "execution_count": 2,
   "id": "6d7a5c71",
   "metadata": {},
   "outputs": [
    {
     "name": "stdout",
     "output_type": "stream",
     "text": [
      "with decreasing \n",
      "--------------------------------------------------\n",
      "[[ 1  1  1  1]\n",
      " [ 8  4  2  1]\n",
      " [27  9  3  1]]\n",
      "with increasing \n",
      "--------------------------------------------------\n",
      "[[ 1  1  1  1]\n",
      " [ 1  2  4  8]\n",
      " [ 1  3  9 27]]\n"
     ]
    }
   ],
   "source": [
    "def alex(l, n, increasing = False):\n",
    "    if increasing:\n",
    "        print(np.array([ j** i for j in l for i in range(n)]).reshape(len(l), n))\n",
    "    else:\n",
    "        print(np.array([ j** (n-1-i) for j in l for i in range(n)]).reshape(len(l), n))\n",
    "        \n",
    "mylist = [1,2,3]\n",
    "n = 4\n",
    "print('with decreasing ')\n",
    "print('-'*50)\n",
    "alex(np.array(mylist),n)\n",
    "print('with increasing ')\n",
    "print('-'*50)\n",
    "alex(np.array(mylist),n, increasing= True)"
   ]
  },
  {
   "cell_type": "markdown",
   "id": "bcca112a",
   "metadata": {},
   "source": [
    "#### Problem Statement 2: Given a sequence of n values x1, x2, ..., xn and a window size k>0, the k-th moving average of the given sequence is defined as follows: The moving average sequence has n-k+1 elements as shown below. The moving averages with k=4 of a ten-value sequence (n=10) is shown below\n",
    "\n",
    "i 1 2 3 4 5 6 7 8 9 10\n",
    "\n",
    "===== == == == == == == == == == ==\n",
    "\n",
    "Input 10 20 30 40 50 60 70 80 90 100\n",
    "\n",
    "y1 25 = (10+20+30+40)/4\n",
    "\n",
    "y2 35 = (20+30+40+50)/4\n",
    "\n",
    "y3 45 = (30+40+50+60)/4\n",
    "\n",
    "y4 55 = (40+50+60+70)/4\n",
    "\n",
    "y5 65 = (50+60+70+80)/4\n",
    "\n",
    "y6 75 = (60+70+80+90)/4\n",
    "\n",
    "y7 85 = (70+80+90+100)/4\n",
    "\n",
    "Thus, the moving average sequence has n-k+1=10-4+1=7 values.\n",
    "\n",
    "Question: Write a function to find moving average in an array over a window:\n",
    "Test it over [3, 5, 7, 2, 8, 10, 11, 65, 72, 81, 99, 100, 150] and window of 3."
   ]
  },
  {
   "cell_type": "code",
   "execution_count": 7,
   "id": "50887d0a",
   "metadata": {},
   "outputs": [
    {
     "data": {
      "text/plain": [
       "array([  5.  ,   4.67,   5.67,   6.67,   9.67,  28.67,  49.33,  72.67,\n",
       "        84.  ,  93.33, 116.33])"
      ]
     },
     "execution_count": 7,
     "metadata": {},
     "output_type": "execute_result"
    }
   ],
   "source": [
    "num= [3, 5, 7, 2, 8, 10, 11, 65, 72, 81, 99, 100, 150]\n",
    "def moving_average(num,n=3):\n",
    "    cum_sum=np.cumsum(num)\n",
    "    cum_sum[n:]=cum_sum[n:]-cum_sum[:-n]\n",
    "    return cum_sum[n-1:]/n\n",
    "a=np.array(num)\n",
    "np.array(moving_average(a,n=3)).round(2)"
   ]
  },
  {
   "cell_type": "code",
   "execution_count": null,
   "id": "643eaf6e",
   "metadata": {},
   "outputs": [],
   "source": []
  }
 ],
 "metadata": {
  "kernelspec": {
   "display_name": "Python 3 (ipykernel)",
   "language": "python",
   "name": "python3"
  },
  "language_info": {
   "codemirror_mode": {
    "name": "ipython",
    "version": 3
   },
   "file_extension": ".py",
   "mimetype": "text/x-python",
   "name": "python",
   "nbconvert_exporter": "python",
   "pygments_lexer": "ipython3",
   "version": "3.9.7"
  }
 },
 "nbformat": 4,
 "nbformat_minor": 5
}
