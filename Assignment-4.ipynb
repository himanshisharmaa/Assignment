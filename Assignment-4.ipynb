{
 "cells": [
  {
   "cell_type": "markdown",
   "metadata": {},
   "source": [
    "#### 1.Write a Python Program(with class concepts) to find the area of the triangle using the below formula\n",
    "#### area=(s*(s-a)*(s-b)*(s-c)) **0.5\n",
    "#### Function to take the length of the sides of triangle from user should be defined in the parent class and function to calculate the area should be defined in subclass."
   ]
  },
  {
   "cell_type": "code",
   "execution_count": 56,
   "metadata": {},
   "outputs": [],
   "source": [
    "class enter:\n",
    "    def __init__(self,a,b,c):\n",
    "        self.a=a\n",
    "        self.b=b\n",
    "        self.c=c\n",
    "class display(enter):\n",
    "    def area(self):\n",
    "        s=(self.a+self.b+self.c)/2\n",
    "        ar=((s*(s-self.a)*(s-self.b)*(s-self.c))**0.5)\n",
    "        print(\"Area of the triangle is: \",ar)"
   ]
  },
  {
   "cell_type": "code",
   "execution_count": 60,
   "metadata": {},
   "outputs": [
    {
     "name": "stdout",
     "output_type": "stream",
     "text": [
      "Area of the triangle is:  2.9047375096555625\n"
     ]
    }
   ],
   "source": [
    "obj=display(3,2,4)\n",
    "obj.area()"
   ]
  },
  {
   "cell_type": "markdown",
   "metadata": {},
   "source": [
    "#### 2.Write a function filter_long_words() that takes a list of words and an integer n and returns the list of words that are longer than n."
   ]
  },
  {
   "cell_type": "code",
   "execution_count": 43,
   "metadata": {},
   "outputs": [],
   "source": [
    "def filter_long_words(l1):\n",
    "    l2=[]\n",
    "    n=int(input(\"Enter an integer: \"))\n",
    "    for i in l1:\n",
    "        if len(i)>n:\n",
    "            l2.append(i)\n",
    "        else:\n",
    "            pass\n",
    "    return l2\n",
    "    "
   ]
  },
  {
   "cell_type": "code",
   "execution_count": 44,
   "metadata": {},
   "outputs": [
    {
     "name": "stdout",
     "output_type": "stream",
     "text": [
      "Enter an integer: 5\n"
     ]
    },
    {
     "data": {
      "text/plain": [
       "['himanshi', 'Harshit']"
      ]
     },
     "execution_count": 44,
     "metadata": {},
     "output_type": "execute_result"
    }
   ],
   "source": [
    "l1=[\"himanshi\",\"imp\",\"yash\",\"Harshit\"]\n",
    "filter_long_words(l1)"
   ]
  },
  {
   "cell_type": "markdown",
   "metadata": {},
   "source": [
    "#### 3. Write a python program using function concept that maps list of words into a list of integers representing the lengths of the corresponding words."
   ]
  },
  {
   "cell_type": "code",
   "execution_count": 35,
   "metadata": {},
   "outputs": [],
   "source": [
    "def l(l1):\n",
    "    l2=[]\n",
    "    for i in l1:\n",
    "        a=len(i)\n",
    "        l2.append(a)\n",
    "    print(l2)\n"
   ]
  },
  {
   "cell_type": "code",
   "execution_count": 40,
   "metadata": {},
   "outputs": [
    {
     "name": "stdout",
     "output_type": "stream",
     "text": [
      "[8, 6, 7, 8]\n"
     ]
    }
   ],
   "source": [
    "l1=[\"Himanshi\",\"Sharma\",\"Harshit\",\"Himanshu\"]\n",
    "l(l1)"
   ]
  },
  {
   "cell_type": "markdown",
   "metadata": {},
   "source": [
    "#### 4.Write a function which takes a character(i.e. a string of length 1) and returns True if it is a vowel,False otherwise."
   ]
  },
  {
   "cell_type": "code",
   "execution_count": 30,
   "metadata": {},
   "outputs": [],
   "source": [
    "def vowel(vow):\n",
    "    \n",
    "    if (vow==\"a\"or vow==\"A\" or vow==\"E\" or vow==\"e\" or vow==\"i\" or vow==\"I\" or vow==\"O\" or vow==\"o\" or vow==\"U\"or vow==\"u\"):\n",
    "        return \"True\"\n",
    "    else :\n",
    "        return \"False\""
   ]
  },
  {
   "cell_type": "code",
   "execution_count": 31,
   "metadata": {},
   "outputs": [
    {
     "data": {
      "text/plain": [
       "'False'"
      ]
     },
     "execution_count": 31,
     "metadata": {},
     "output_type": "execute_result"
    }
   ],
   "source": [
    "vowel('c')"
   ]
  },
  {
   "cell_type": "code",
   "execution_count": 32,
   "metadata": {},
   "outputs": [
    {
     "data": {
      "text/plain": [
       "'True'"
      ]
     },
     "execution_count": 32,
     "metadata": {},
     "output_type": "execute_result"
    }
   ],
   "source": [
    "vowel('a')"
   ]
  }
 ],
 "metadata": {
  "kernelspec": {
   "display_name": "Python 3",
   "language": "python",
   "name": "python3"
  },
  "language_info": {
   "codemirror_mode": {
    "name": "ipython",
    "version": 3
   },
   "file_extension": ".py",
   "mimetype": "text/x-python",
   "name": "python",
   "nbconvert_exporter": "python",
   "pygments_lexer": "ipython3",
   "version": "3.8.5"
  }
 },
 "nbformat": 4,
 "nbformat_minor": 4
}
