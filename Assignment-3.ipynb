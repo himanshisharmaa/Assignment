{
 "cells": [
  {
   "cell_type": "markdown",
   "metadata": {},
   "source": [
    "#### 1.Write a Python program to implement your own myreduce() function whuch works exactly like Python's built-in function reduce()"
   ]
  },
  {
   "cell_type": "code",
   "execution_count": 1,
   "metadata": {},
   "outputs": [
    {
     "name": "stdout",
     "output_type": "stream",
     "text": [
      "Enter a number:10\n",
      "List of numbers: [1, 2, 3, 4, 5, 6, 7, 8, 9, 10]\n",
      "Sum of numbers: 55\n"
     ]
    }
   ],
   "source": [
    "def my_reduce(n):\n",
    "    li=list(range(1,n+1))\n",
    "    s=0\n",
    "    for i in li:\n",
    "        s+=i\n",
    "    return li,s\n",
    "num=int(input(\"Enter a number:\"))\n",
    "out=my_reduce(num)\n",
    "print(\"List of numbers:\",out[0])\n",
    "print(\"Sum of numbers:\",out[1])"
   ]
  },
  {
   "cell_type": "markdown",
   "metadata": {},
   "source": [
    "#### 2.Write a Python program to implement your own myfilter() function which works exactly like python's built-in function filter()"
   ]
  },
  {
   "cell_type": "code",
   "execution_count": 1,
   "metadata": {},
   "outputs": [
    {
     "name": "stdout",
     "output_type": "stream",
     "text": [
      "Please insert a number: 5\n",
      "Enter a character: f\n",
      "Enter a character: d\n",
      "Enter a character: a\n",
      "Enter a character: y\n",
      "Enter a character: i\n",
      "List of characters:  ['f', 'd', 'a', 'y', 'i']\n",
      "List of vowels:  ['a', 'i']\n",
      "List of characters that are not vowels:  ['f', 'd', 'y']\n"
     ]
    }
   ],
   "source": [
    "li=[]\n",
    "num=int(input(\"Please insert a number: \"))\n",
    "for i in range(1,num+1):\n",
    "    ch=input(\"Enter a character: \")\n",
    "    li.append(ch)\n",
    "def myfilter(li):\n",
    "    vowel=[]\n",
    "    not_vowel=[]\n",
    "    for j in li:\n",
    "        if(j=='a'or j=='A'or j=='e'or j=='E'or j=='i' or j=='I' or j=='o' or j=='O' or j=='u'or j=='U'):\n",
    "            vowel.append(j)\n",
    "        else:\n",
    "            not_vowel.append(j)\n",
    "    return vowel,not_vowel\n",
    "out=myfilter(li)\n",
    "print(\"List of characters: \",li)\n",
    "print(\"List of vowels: \",out[0])\n",
    "print(\"List of characters that are not vowels: \",out[1])\n",
    "        "
   ]
  },
  {
   "cell_type": "markdown",
   "metadata": {},
   "source": [
    "#### 3. Implement List comprehensions to produce the following lists. Write List comprehensions to produce the following Lists ['A', 'C', 'A', 'D', 'G', 'I', ’L’, ‘ D’] ['x', 'xx', 'xxx', 'xxxx', 'y', 'yy', 'yyy', 'yyyy', 'z', 'zz', 'zzz', 'zzzz'] ['x', 'y', 'z', 'xx', 'yy', 'zz', 'xx', 'yy', 'zz', 'xxxx', 'yyyy', 'zzzz'] [[2], [3], [4], [3], [4], [5], [4], [5], [6]] [[2, 3, 4, 5], [3, 4, 5, 6], [4, 5, 6, 7], [5, 6, 7, 8]] [(1, 1), (2, 1), (3, 1), (1, 2), (2, 2), (3, 2), (1, 3), (2, 3), (3, 3)]"
   ]
  },
  {
   "cell_type": "code",
   "execution_count": 2,
   "metadata": {},
   "outputs": [
    {
     "name": "stdout",
     "output_type": "stream",
     "text": [
      "['A', 'C', 'A', 'D', 'G', 'I', 'L', 'D']\n"
     ]
    }
   ],
   "source": [
    "#1.\n",
    "li=['A','C','A','D','G','I','L','D']\n",
    "li2=[i for i in li]\n",
    "print(li2)"
   ]
  },
  {
   "cell_type": "code",
   "execution_count": 16,
   "metadata": {},
   "outputs": [
    {
     "name": "stdout",
     "output_type": "stream",
     "text": [
      "['x', 'xx', 'xxx', 'xxxx', 'y', 'yy', 'yyy', 'yyyy', 'z', 'zz', 'zzz', 'zzzz']\n"
     ]
    }
   ],
   "source": [
    "l1=list('xyz')\n",
    "li=[i*n for i in l1 for n in range(1,5)]\n",
    "print(li)"
   ]
  },
  {
   "cell_type": "code",
   "execution_count": 18,
   "metadata": {},
   "outputs": [
    {
     "name": "stdout",
     "output_type": "stream",
     "text": [
      "['x', 'y', 'z', 'xx', 'yy', 'zz', 'xxx', 'yyy', 'zzz', 'xxxx', 'yyyy', 'zzzz']\n"
     ]
    }
   ],
   "source": [
    "l2=list('xyz')\n",
    "li=[i*n for n in range(1,5) for i in l2]\n",
    "print(li)"
   ]
  },
  {
   "cell_type": "code",
   "execution_count": 19,
   "metadata": {},
   "outputs": [
    {
     "name": "stdout",
     "output_type": "stream",
     "text": [
      "[[2], [3], [4], [3], [4], [5], [4], [5], [6]]\n"
     ]
    }
   ],
   "source": [
    "num=[2,3,4]\n",
    "num_li=[[x+n] for x in num for n in range(0,3)]\n",
    "print(num_li)"
   ]
  },
  {
   "cell_type": "code",
   "execution_count": 21,
   "metadata": {},
   "outputs": [
    {
     "name": "stdout",
     "output_type": "stream",
     "text": [
      "[[2, 3, 4, 5], [3, 4, 5, 6], [4, 5, 6, 7], [5, 6, 7, 8]]\n"
     ]
    }
   ],
   "source": [
    "num=[2,3,4,5]\n",
    "num_li=[[x+n  for n in range(0,4)]for x in num]\n",
    "print(num_li)"
   ]
  },
  {
   "cell_type": "code",
   "execution_count": 22,
   "metadata": {},
   "outputs": [
    {
     "name": "stdout",
     "output_type": "stream",
     "text": [
      "[(1, 1), (2, 1), (3, 1), (1, 2), (2, 2), (3, 2), (1, 3), (2, 3), (3, 3)]\n"
     ]
    }
   ],
   "source": [
    "num=[1,2,3]\n",
    "num_li=[(j,i) for i in num for j in num]\n",
    "print(num_li)"
   ]
  },
  {
   "cell_type": "code",
   "execution_count": null,
   "metadata": {},
   "outputs": [],
   "source": []
  }
 ],
 "metadata": {
  "kernelspec": {
   "display_name": "Python 3",
   "language": "python",
   "name": "python3"
  },
  "language_info": {
   "codemirror_mode": {
    "name": "ipython",
    "version": 3
   },
   "file_extension": ".py",
   "mimetype": "text/x-python",
   "name": "python",
   "nbconvert_exporter": "python",
   "pygments_lexer": "ipython3",
   "version": "3.8.5"
  }
 },
 "nbformat": 4,
 "nbformat_minor": 4
}
